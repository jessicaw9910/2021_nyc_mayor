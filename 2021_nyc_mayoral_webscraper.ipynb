{
 "cells": [
  {
   "cell_type": "code",
   "execution_count": 1,
   "metadata": {},
   "outputs": [
    {
     "name": "stdout",
     "output_type": "stream",
     "text": [
      "Enter current URL with the terminal round number removed: https://web.enrboenyc.us/rcv/024306_\n",
      "Enter number of rounds reported: 9\n"
     ]
    }
   ],
   "source": [
    "## load packages\n",
    "from bs4 import BeautifulSoup\n",
    "import requests\n",
    "import pandas as pd\n",
    "import os\n",
    "\n",
    "## not in use\n",
    "# import numpy as np\n",
    "# import seaborn as sns\n",
    "# import matplotlib.pyplot as plt\n",
    "# %matplotlib inline\n",
    "\n",
    "## import candidate names copied from election website\n",
    "my_file = open(\"names.txt\", \"r\")\n",
    "names = my_file.readlines()\n",
    "names = [i.replace('\\n', '') for i in names]\n",
    "\n",
    "## input url and number of rounds\n",
    "## create urls for all rounds\n",
    "\n",
    "## 'https://web.enrboenyc.us/rcv/024306_'\n",
    "url_base = input('Enter current URL with the terminal round number removed: ')\n",
    "\n",
    "## 9 for June 30 results\n",
    "no_rounds = int(input('Enter number of rounds reported: '))\n",
    "rounds = [i for i in range(1, no_rounds + 1)]\n",
    "\n",
    "url_total = []\n",
    "for n in rounds:\n",
    "    url_total.append(url_base + str(n) + \".html\")\n",
    "\n",
    "## extract the table data for each round\n",
    "rounds_total = []\n",
    "for url in url_total:\n",
    "    try:\n",
    "        page = requests.get(url)\n",
    "    except requests.exceptions.RequestException as e:  # This is the correct syntax\n",
    "        raise SystemExit(e)\n",
    "        \n",
    "    soup = BeautifulSoup(page.content, \"html.parser\")\n",
    "        \n",
    "    data = []\n",
    "\n",
    "    tables = soup.findChildren('table')\n",
    "    tables[0]\n",
    "\n",
    "    rows = tables[0].findChildren('td')\n",
    "\n",
    "    for row in rows:\n",
    "        cells = row.findChildren(['td'])\n",
    "        for cell in cells:\n",
    "            value = str(cell.string)\n",
    "            data.append(value.lstrip())\n",
    "    rounds_total.append(data)\n",
    "\n",
    "## extract the results per candidate per round\n",
    "rounds_list = []\n",
    "\n",
    "for name in names:\n",
    "    round_list = []\n",
    "    for i in rounds:\n",
    "        temp = rounds_total[i-1][rounds_total[i-1].index(name) + 1]\n",
    "        round_list.append(temp)\n",
    "    rounds_list.append(round_list)\n",
    "    \n",
    "rounds_list = [list(map(lambda x:x.split(' ')[0], group)) for group in rounds_list]\n",
    "\n",
    "## create dataframe from list of lists\n",
    "df_output = pd.DataFrame(rounds_list, \n",
    "                         columns = [\"Round \" + str(i) for i in rounds])\n",
    "df_output.index = names\n",
    "\n",
    "## output dataframe to CSV\n",
    "cwd = os.getcwd()\n",
    "path = cwd + \"/output.csv\"\n",
    "df_output.to_csv(path)"
   ]
  }
 ],
 "metadata": {
  "kernelspec": {
   "display_name": "Python 3",
   "language": "python",
   "name": "python3"
  },
  "language_info": {
   "codemirror_mode": {
    "name": "ipython",
    "version": 3
   },
   "file_extension": ".py",
   "mimetype": "text/x-python",
   "name": "python",
   "nbconvert_exporter": "python",
   "pygments_lexer": "ipython3",
   "version": "3.8.3"
  }
 },
 "nbformat": 4,
 "nbformat_minor": 4
}
